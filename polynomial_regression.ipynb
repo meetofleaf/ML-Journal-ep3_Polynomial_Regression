{
 "cells": [
  {
   "cell_type": "markdown",
   "metadata": {},
   "source": [
    "# Polynomial Regression"
   ]
  },
  {
   "cell_type": "markdown",
   "metadata": {},
   "source": [
    "#### Import Default Libraries"
   ]
  },
  {
   "cell_type": "code",
   "execution_count": 1,
   "metadata": {},
   "outputs": [],
   "source": [
    "import numpy as np\n",
    "import pandas as pd\n",
    "import matplotlib.pyplot as plt"
   ]
  },
  {
   "cell_type": "markdown",
   "metadata": {},
   "source": [
    "#### Data Preparation"
   ]
  },
  {
   "cell_type": "code",
   "execution_count": 2,
   "metadata": {},
   "outputs": [],
   "source": [
    "### Import Dataset\n",
    "dataset = pd.read_csv('amd_daily.csv')    # Feel free to use your own dataset to experiment.\n",
    "# Add Day as index column to serve as independent variable\n",
    "dataset['Day'] = range(1,len(dataset['Close'])+1)"
   ]
  },
  {
   "cell_type": "code",
   "execution_count": 3,
   "metadata": {},
   "outputs": [],
   "source": [
    "# Add Day as index column to serve as independent variable\n",
    "dataset['Day'] = range(1,len(dataset['Close'])+1)"
   ]
  },
  {
   "cell_type": "code",
   "execution_count": 4,
   "metadata": {},
   "outputs": [],
   "source": [
    "# Extracting independent (X) and dependent (y) columns/fields/variables. You can experiment with different independent variables.\n",
    "X = dataset.iloc[:,7:].values      # Independent variables (Date)\n",
    "y = dataset.iloc[:,4:5].values       # Dependent variable (close)\n",
    "# Reference for iloc: https://pandas.pydata.org/docs/reference/api/pandas.DataFrame.iloc.html"
   ]
  },
  {
   "cell_type": "markdown",
   "metadata": {},
   "source": [
    "**Note:** This time we won't split the dataset into training and test set as we want to utilize whole dataset to train the model."
   ]
  },
  {
   "cell_type": "markdown",
   "metadata": {},
   "source": [
    "#### Train the model"
   ]
  },
  {
   "cell_type": "code",
   "execution_count": 5,
   "metadata": {},
   "outputs": [],
   "source": [
    "from sklearn.linear_model import LinearRegression\n",
    "from sklearn.preprocessing import PolynomialFeatures"
   ]
  },
  {
   "cell_type": "code",
   "execution_count": null,
   "metadata": {},
   "outputs": [],
   "source": [
    "# Training the Linear Regression model (named linear_regressor here) on the dataset\n",
    "linear_regressor = LinearRegression()      # Define regressor as regression instance. The linear regression class works for multiple regression as well.\n",
    "linear_regressor.fit(X, y)     # Train the model on training data of both independent and dependent data.\n",
    "\n",
    "poly_regressor = PolynomialFeatures(degree=25)   # You can try different degrees to best fit the model to the data.\n",
    "\n",
    "# We generate a matrix of features to train our polynomial regressor on. As per the polynomial equation of the polynomial regression model, we need a feature for each degree.\n",
    "X_poly = poly_regressor.fit_transform(X)\n",
    "final_regressor = LinearRegression()\n",
    "# Train final regression model with the polynomial matrix we created above.\n",
    "final_regressor.fit(X_poly, y)"
   ]
  },
  {
   "cell_type": "markdown",
   "metadata": {},
   "source": [
    "#### Predicting Results"
   ]
  },
  {
   "cell_type": "code",
   "execution_count": null,
   "metadata": {},
   "outputs": [],
   "source": [
    "# Function to predict profit based on input using our models (final_regressor and poly_regressor)\n",
    "def prediction(day):\n",
    "    return final_regressor.predict(poly_regressor.fit_transform([[day]]))\n",
    "\n",
    "print(prediction(295))  # The input is the day, which means the model predicts what will be the price of the stock on given number of day. Feel free to experiment."
   ]
  },
  {
   "cell_type": "markdown",
   "metadata": {},
   "source": [
    "#### If you were able to run till here successfully, then machine learning part is complete. Let's visualize the model."
   ]
  },
  {
   "cell_type": "markdown",
   "metadata": {},
   "source": [
    "#### Visualization"
   ]
  },
  {
   "cell_type": "code",
   "execution_count": null,
   "metadata": {},
   "outputs": [],
   "source": [
    "# Visualizing the linear regression model\n",
    "plt.scatter(X,y, color=\"red\")\n",
    "plt.plot(X, linear_regressor.predict(X), color=\"blue\")\n",
    "plt.title(\"AMD Stock Polynomial Regression Analysis\")\n",
    "plt.xlabel(\"Day\")\n",
    "plt.ylabel(\"Price\")\n",
    "plt.show()\n"
   ]
  },
  {
   "cell_type": "code",
   "execution_count": null,
   "metadata": {},
   "outputs": [],
   "source": [
    "# Visualizing the polynomial regression model\n",
    "plt.scatter(X,y, color=\"red\")\n",
    "plt.plot(X, final_regressor.predict(poly_regressor.fit_transform(X)), color=\"blue\")\n",
    "plt.title(\"AMD Stock Polynomial Regression Analysis\")\n",
    "plt.xlabel(\"Day\")\n",
    "plt.ylabel(\"Price\")\n",
    "plt.show()"
   ]
  }
 ],
 "metadata": {
  "kernelspec": {
   "display_name": "Python 3",
   "language": "python",
   "name": "python3"
  },
  "language_info": {
   "codemirror_mode": {
    "name": "ipython",
    "version": 3
   },
   "file_extension": ".py",
   "mimetype": "text/x-python",
   "name": "python",
   "nbconvert_exporter": "python",
   "pygments_lexer": "ipython3",
   "version": "3.12.1"
  }
 },
 "nbformat": 4,
 "nbformat_minor": 2
}
